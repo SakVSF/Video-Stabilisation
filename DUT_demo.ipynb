{
  "cells": [
    {
      "cell_type": "markdown",
      "metadata": {
        "id": "view-in-github",
        "colab_type": "text"
      },
      "source": [
        "<a href=\"https://colab.research.google.com/github/SakVSF/Video-Stabilisation/blob/main/DUT_demo.ipynb\" target=\"_parent\"><img src=\"https://colab.research.google.com/assets/colab-badge.svg\" alt=\"Open In Colab\"/></a>"
      ]
    },
    {
      "cell_type": "markdown",
      "metadata": {
        "id": "Y_nX-B6MS23g"
      },
      "source": [
        "# [Demo]DUT: Learning Video Stabilization by Simply Watching Unstable Videos\n",
        "\n",
        "<p align=\"justify\">This is the demo of the paper <a href=\"https://arxiv.org/pdf/2011.14574.pdf\">DUT: Learning Video Stabilization by Simply Watching Unstable Videos</a>, in which we provide a novel network to perform video stabilization. More information about the paper and the source code can be found in our <a href=\"https://github.com/Annbless/DUTCode\">github repo</a>.</p>\n",
        "\n",
        "<p align=\"justify\">In this demo, we will help you generate the stabilization result based on one of our prtrained models step by step. You don't need the environment with GPUs, all you need is to run each code cell sequentially and upload your images. The results will automatically display on screen or be downloaded to your machine if you need. </p>\n",
        "\n",
        "If you have any issues or encounter any problems, please feel free to raise issues in our [github repo](https://github.com/Annbless/DUTCode) or contact me at [yuxu7116@uni.sydney.edu.au](mailto:yuxu7116@uni.sydney.edu.au). Enjoy!\n",
        "\n",
        "[![arXiv](https://img.shields.io/badge/arXiv-Paper-<COLOR>.svg)](https://arxiv.org/pdf/2011.14574.pdf)\n",
        "\n",
        "\n",
        "## More relevant links\n",
        "- Paper: https://arxiv.org/pdf/2011.14574.pdf\n",
        "- Github Repo: https://github.com/Annbless/DUTCode"
      ]
    },
    {
      "cell_type": "markdown",
      "metadata": {
        "id": "pPsPCjnwTHYv"
      },
      "source": [
        "## Prepare repository and download pretrained model"
      ]
    },
    {
      "cell_type": "code",
      "execution_count": 1,
      "metadata": {
        "colab": {
          "base_uri": "https://localhost:8080/"
        },
        "id": "gK7saHyCUT1S",
        "outputId": "41ec983a-4c8a-4196-8110-d0f4d303738d"
      },
      "outputs": [
        {
          "output_type": "stream",
          "name": "stdout",
          "text": [
            "Cloning into 'DUTCode'...\n",
            "remote: Enumerating objects: 542, done.\u001b[K\n",
            "remote: Counting objects: 100% (14/14), done.\u001b[K\n",
            "remote: Compressing objects: 100% (12/12), done.\u001b[K\n",
            "remote: Total 542 (delta 2), reused 14 (delta 2), pack-reused 528\u001b[K\n",
            "Receiving objects: 100% (542/542), 156.28 MiB | 35.48 MiB/s, done.\n",
            "Resolving deltas: 100% (2/2), done.\n"
          ]
        }
      ],
      "source": [
        "!git clone https://github.com/Annbless/DUTCode.git\n",
        "!mkdir DUTCode/ckpt/\n",
        "!cd DUTCode"
      ]
    },
    {
      "cell_type": "markdown",
      "metadata": {
        "id": "er-EsnH47lc4"
      },
      "source": [
        "### Download model files for the DUT model"
      ]
    },
    {
      "cell_type": "code",
      "execution_count": 2,
      "metadata": {
        "colab": {
          "base_uri": "https://localhost:8080/"
        },
        "id": "0mCq2dT3pNTC",
        "outputId": "50b5a313-6ab6-4d5b-d833-62ba55136ba9"
      },
      "outputs": [
        {
          "output_type": "stream",
          "name": "stdout",
          "text": [
            "/usr/local/lib/python3.10/dist-packages/gdown/cli.py:121: FutureWarning: Option `--id` was deprecated in version 4.3.1 and will be removed in 5.0. You don't need to pass it anymore to use a file ID.\n",
            "  warnings.warn(\n",
            "Downloading...\n",
            "From: https://drive.google.com/uc?id=1tff2UlkzNovGBArFqVVO3BwQm76PdpwB\n",
            "To: /content/DUTCode/ckpt/MotionPro.pth\n",
            "100% 204k/204k [00:00<00:00, 3.02MB/s]\n",
            "/usr/local/lib/python3.10/dist-packages/gdown/cli.py:121: FutureWarning: Option `--id` was deprecated in version 4.3.1 and will be removed in 5.0. You don't need to pass it anymore to use a file ID.\n",
            "  warnings.warn(\n",
            "Downloading...\n",
            "From: https://drive.google.com/uc?id=1VpKSANWikZhY7Dtt0dBrYcK6R32CtdR8\n",
            "To: /content/DUTCode/ckpt/network-default.pytorch\n",
            "100% 37.5M/37.5M [00:00<00:00, 51.7MB/s]\n",
            "/usr/local/lib/python3.10/dist-packages/gdown/cli.py:121: FutureWarning: Option `--id` was deprecated in version 4.3.1 and will be removed in 5.0. You don't need to pass it anymore to use a file ID.\n",
            "  warnings.warn(\n",
            "Downloading...\n",
            "From: https://drive.google.com/uc?id=1ZXh1X6ZOeBeb6_Duk0rkZcDVLj97iDyX\n",
            "To: /content/DUTCode/ckpt/RFDet_640.pth.tar\n",
            "100% 16.3M/16.3M [00:00<00:00, 28.2MB/s]\n",
            "/usr/local/lib/python3.10/dist-packages/gdown/cli.py:121: FutureWarning: Option `--id` was deprecated in version 4.3.1 and will be removed in 5.0. You don't need to pass it anymore to use a file ID.\n",
            "  warnings.warn(\n",
            "Downloading...\n",
            "From: https://drive.google.com/uc?id=1H3iAmGGtFzOH9t7chPmvOAn1Rucj0KX9\n",
            "To: /content/DUTCode/ckpt/smoother.pth\n",
            "100% 2.22M/2.22M [00:00<00:00, 14.3MB/s]\n"
          ]
        }
      ],
      "source": [
        "!gdown --id 1tff2UlkzNovGBArFqVVO3BwQm76PdpwB -O /content/DUTCode/ckpt/MotionPro.pth\n",
        "!gdown --id 1VpKSANWikZhY7Dtt0dBrYcK6R32CtdR8 -O /content/DUTCode/ckpt/network-default.pytorch\n",
        "!gdown --id 1ZXh1X6ZOeBeb6_Duk0rkZcDVLj97iDyX -O /content/DUTCode/ckpt/RFDet_640.pth.tar\n",
        "!gdown --id 1H3iAmGGtFzOH9t7chPmvOAn1Rucj0KX9 -O /content/DUTCode/ckpt/smoother.pth"
      ]
    },
    {
      "cell_type": "markdown",
      "metadata": {
        "id": "z0jh2QMH7rVK"
      },
      "source": [
        "### Download model files for the DIFRINT model"
      ]
    },
    {
      "cell_type": "code",
      "execution_count": 6,
      "metadata": {
        "colab": {
          "base_uri": "https://localhost:8080/"
        },
        "id": "xw7xzFfn7xhq",
        "outputId": "cc9abb10-326a-450e-ffef-92f0fda6c2ad"
      },
      "outputs": [
        {
          "output_type": "stream",
          "name": "stdout",
          "text": [
            "/usr/local/lib/python3.10/dist-packages/gdown/cli.py:121: FutureWarning: Option `--id` was deprecated in version 4.3.1 and will be removed in 5.0. You don't need to pass it anymore to use a file ID.\n",
            "  warnings.warn(\n",
            "Access denied with the following error:\n",
            "\n",
            " \tCannot retrieve the public link of the file. You may need to change\n",
            "\tthe permission to 'Anyone with the link', or have had many accesses. \n",
            "\n",
            "You may still be able to access the file from the browser:\n",
            "\n",
            "\t https://drive.google.com/uc?id=12R5wW2yKGMyOY7h7zz3j8gwAFQt1MSJC \n",
            "\n",
            "/usr/local/lib/python3.10/dist-packages/gdown/cli.py:121: FutureWarning: Option `--id` was deprecated in version 4.3.1 and will be removed in 5.0. You don't need to pass it anymore to use a file ID.\n",
            "  warnings.warn(\n",
            "Access denied with the following error:\n",
            "\n",
            " \tCannot retrieve the public link of the file. You may need to change\n",
            "\tthe permission to 'Anyone with the link', or have had many accesses. \n",
            "\n",
            "You may still be able to access the file from the browser:\n",
            "\n",
            "\t https://drive.google.com/uc?id=1AUobiJEFijGUz6tBwgQB3zqiMWIuKCu3 \n",
            "\n"
          ]
        }
      ],
      "source": [
        "!gdown --id 12R5wW2yKGMyOY7h7zz3j8gwAFQt1MSJC -O /content/DUTCode/ckpt/sintel.pytorch\n",
        "!gdown --id 1AUobiJEFijGUz6tBwgQB3zqiMWIuKCu3 -O /content/DUTCode/ckpt/DIFNet2.pth"
      ]
    },
    {
      "cell_type": "code",
      "execution_count": 4,
      "metadata": {
        "colab": {
          "base_uri": "https://localhost:8080/"
        },
        "id": "-4AzhCot_mt7",
        "outputId": "13057ec4-b2e3-4ea7-e380-583e3c5d88ca"
      },
      "outputs": [
        {
          "output_type": "stream",
          "name": "stdout",
          "text": [
            "Collecting pypng\n",
            "  Downloading pypng-0.20220715.0-py3-none-any.whl (58 kB)\n",
            "\u001b[?25l     \u001b[90m━━━━━━━━━━━━━━━━━━━━━━━━━━━━━━━━━━━━━━━━\u001b[0m \u001b[32m0.0/58.1 kB\u001b[0m \u001b[31m?\u001b[0m eta \u001b[36m-:--:--\u001b[0m\r\u001b[2K     \u001b[90m━━━━━━━━━━━━━━━━━━━━━━━━━━━━━━━━━━━━━━━━\u001b[0m \u001b[32m58.1/58.1 kB\u001b[0m \u001b[31m2.0 MB/s\u001b[0m eta \u001b[36m0:00:00\u001b[0m\n",
            "\u001b[?25hInstalling collected packages: pypng\n",
            "Successfully installed pypng-0.20220715.0\n"
          ]
        }
      ],
      "source": [
        "pip install pypng"
      ]
    },
    {
      "cell_type": "markdown",
      "metadata": {
        "id": "H-doJUJb8Kcr"
      },
      "source": [
        "### Down model files for the StabNet model"
      ]
    },
    {
      "cell_type": "code",
      "execution_count": null,
      "metadata": {
        "colab": {
          "base_uri": "https://localhost:8080/"
        },
        "id": "Gwy49WjZ8PPv",
        "outputId": "c4fb69ba-991d-4b85-8499-2746157198a1"
      },
      "outputs": [
        {
          "name": "stdout",
          "output_type": "stream",
          "text": [
            "Downloading...\n",
            "From: https://drive.google.com/uc?id=1xMO_l2eq2IqaR_x2L_P9WH0-yPj7meow\n",
            "To: /content/DUTCode/ckpt/stabNet.pth\n",
            "130MB [00:01, 91.4MB/s]\n"
          ]
        }
      ],
      "source": [
        "!gdown --id 1xMO_l2eq2IqaR_x2L_P9WH0-yPj7meow -O /content/DUTCode/ckpt/stabNet.pth"
      ]
    },
    {
      "cell_type": "markdown",
      "metadata": {
        "id": "kiPmmMhM7Zu8"
      },
      "source": [
        "## Run the three models on the provided unstable sequences and see the results"
      ]
    },
    {
      "cell_type": "code",
      "execution_count": 7,
      "metadata": {
        "colab": {
          "base_uri": "https://localhost:8080/"
        },
        "id": "lIzp-xgV8o3I",
        "outputId": "148bb3e0-96d6-4630-eadc-b43bab6a5eed"
      },
      "outputs": [
        {
          "output_type": "stream",
          "name": "stdout",
          "text": [
            "/content/DUTCode\n"
          ]
        }
      ],
      "source": [
        "cd /content/DUTCode/\n"
      ]
    },
    {
      "cell_type": "code",
      "source": [
        "import os\n",
        "baseDir = '/content/DUTCode/images/'\n",
        "images = sorted([ele for ele in os.listdir(baseDir) if '.jpg' in ele], key=lambda x: int(x[:-4]))\n",
        "for ele in images[200:]:\n",
        "    os.remove(os.path.join(baseDir, ele))"
      ],
      "metadata": {
        "id": "YdA9axP5HxOX"
      },
      "execution_count": 8,
      "outputs": []
    },
    {
      "cell_type": "code",
      "execution_count": 9,
      "metadata": {
        "colab": {
          "base_uri": "https://localhost:8080/"
        },
        "id": "1LK18u1rPqen",
        "outputId": "5f67939d-2ee3-4e57-d673-50818b2ba844"
      },
      "outputs": [
        {
          "output_type": "stream",
          "name": "stdout",
          "text": [
            "From https://github.com/Annbless/DUTCode\n",
            " * branch            main       -> FETCH_HEAD\n",
            "Already up to date.\n",
            " Stabiling using the DUT model \n",
            "-----------------------------------\n",
            "Traceback (most recent call last):\n",
            "  File \"/content/DUTCode/models/DUT/PWCNet.py\", line 14, in <module>\n",
            "    from .correlation import correlation  # the custom cost volume layer\n",
            "ModuleNotFoundError: No module named 'models.DUT.correlation'\n",
            "\n",
            "During handling of the above exception, another exception occurred:\n",
            "\n",
            "Traceback (most recent call last):\n",
            "  File \"/content/DUTCode/./scripts/DUTStabilizer.py\", line 11, in <module>\n",
            "    from models.DUT.DUT import DUT\n",
            "  File \"/content/DUTCode/models/DUT/DUT.py\", line 12, in <module>\n",
            "    from .PWCNet import Network as PWCNet\n",
            "  File \"/content/DUTCode/models/DUT/PWCNet.py\", line 19, in <module>\n",
            "    import correlation  # you should consider upgrading python\n",
            "  File \"/content/DUTCode/models/correlation/correlation.py\", line 273, in <module>\n",
            "    @cupy.util.memoize(for_each_device=True)\n",
            "  File \"/usr/local/lib/python3.10/dist-packages/cupy/__init__.py\", line 938, in __getattr__\n",
            "    raise AttributeError(f\"module 'cupy' has no attribute {name!r}\")\n",
            "AttributeError: module 'cupy' has no attribute 'util'. Did you mean: '_util'?\n",
            " Stabiling using the DIFRINT model \n",
            "-----------------------------------\n",
            "Traceback (most recent call last):\n",
            "  File \"/content/DUTCode/models/DIFRINT/pwcNet.py\", line 17, in <module>\n",
            "    from models.correlation import correlation # the custom cost volume layer\n",
            "  File \"/content/DUTCode/models/correlation/correlation.py\", line 273, in <module>\n",
            "    @cupy.util.memoize(for_each_device=True)\n",
            "  File \"/usr/local/lib/python3.10/dist-packages/cupy/__init__.py\", line 938, in __getattr__\n",
            "    raise AttributeError(f\"module 'cupy' has no attribute {name!r}\")\n",
            "AttributeError: module 'cupy' has no attribute 'util'. Did you mean: '_util'?\n",
            "\n",
            "During handling of the above exception, another exception occurred:\n",
            "\n",
            "Traceback (most recent call last):\n",
            "  File \"/content/DUTCode/./scripts/DIFRINTStabilizer.py\", line 11, in <module>\n",
            "    from models.DIFRINT.models import DIFNet2\n",
            "  File \"/content/DUTCode/models/DIFRINT/models.py\", line 6, in <module>\n",
            "    from .pwcNet import PwcNet\n",
            "  File \"/content/DUTCode/models/DIFRINT/pwcNet.py\", line 22, in <module>\n",
            "    import correlation  # you should consider upgrading python\n",
            "  File \"/content/DUTCode/models/correlation/correlation.py\", line 273, in <module>\n",
            "    @cupy.util.memoize(for_each_device=True)\n",
            "  File \"/usr/local/lib/python3.10/dist-packages/cupy/__init__.py\", line 938, in __getattr__\n",
            "    raise AttributeError(f\"module 'cupy' has no attribute {name!r}\")\n",
            "AttributeError: module 'cupy' has no attribute 'util'. Did you mean: '_util'?\n",
            " Stabiling using the DIFRINT model \n",
            "-----------------------------------\n",
            "Traceback (most recent call last):\n",
            "  File \"/content/DUTCode/./scripts/StabNetStabilizer.py\", line 36, in <module>\n",
            "    model.load_state_dict(r_model)\n",
            "  File \"/usr/local/lib/python3.10/dist-packages/torch/nn/modules/module.py\", line 2041, in load_state_dict\n",
            "    raise RuntimeError('Error(s) in loading state_dict for {}:\\n\\t{}'.format(\n",
            "RuntimeError: Error(s) in loading state_dict for stabNet:\n",
            "\tMissing key(s) in state_dict: \"resnet50.resnet_v2_50_block1_unit_1_bottleneck_v2_preact_FusedBatchNorm.running_mean\", \"resnet50.resnet_v2_50_block1_unit_1_bottleneck_v2_preact_FusedBatchNorm.running_var\", \"resnet50.resnet_v2_50_block1_unit_1_bottleneck_v2_conv1_BatchNorm_FusedBatchNorm.running_mean\", \"resnet50.resnet_v2_50_block1_unit_1_bottleneck_v2_conv1_BatchNorm_FusedBatchNorm.running_var\", \"resnet50.resnet_v2_50_block1_unit_1_bottleneck_v2_conv2_BatchNorm_FusedBatchNorm.running_mean\", \"resnet50.resnet_v2_50_block1_unit_1_bottleneck_v2_conv2_BatchNorm_FusedBatchNorm.running_var\", \"resnet50.resnet_v2_50_block1_unit_2_bottleneck_v2_preact_FusedBatchNorm.running_mean\", \"resnet50.resnet_v2_50_block1_unit_2_bottleneck_v2_preact_FusedBatchNorm.running_var\", \"resnet50.resnet_v2_50_block1_unit_2_bottleneck_v2_conv1_BatchNorm_FusedBatchNorm.running_mean\", \"resnet50.resnet_v2_50_block1_unit_2_bottleneck_v2_conv1_BatchNorm_FusedBatchNorm.running_var\", \"resnet50.resnet_v2_50_block1_unit_2_bottleneck_v2_conv2_BatchNorm_FusedBatchNorm.running_mean\", \"resnet50.resnet_v2_50_block1_unit_2_bottleneck_v2_conv2_BatchNorm_FusedBatchNorm.running_var\", \"resnet50.resnet_v2_50_block1_unit_3_bottleneck_v2_preact_FusedBatchNorm.running_mean\", \"resnet50.resnet_v2_50_block1_unit_3_bottleneck_v2_preact_FusedBatchNorm.running_var\", \"resnet50.resnet_v2_50_block1_unit_3_bottleneck_v2_conv1_BatchNorm_FusedBatchNorm.running_mean\", \"resnet50.resnet_v2_50_block1_unit_3_bottleneck_v2_conv1_BatchNorm_FusedBatchNorm.running_var\", \"resnet50.resnet_v2_50_block1_unit_3_bottleneck_v2_conv2_BatchNorm_FusedBatchNorm.running_mean\", \"resnet50.resnet_v2_50_block1_unit_3_bottleneck_v2_conv2_BatchNorm_FusedBatchNorm.running_var\", \"resnet50.resnet_v2_50_block2_unit_1_bottleneck_v2_preact_FusedBatchNorm.running_mean\", \"resnet50.resnet_v2_50_block2_unit_1_bottleneck_v2_preact_FusedBatchNorm.running_var\", \"resnet50.resnet_v2_50_block2_unit_1_bottleneck_v2_conv1_BatchNorm_FusedBatchNorm.running_mean\", \"resnet50.resnet_v2_50_block2_unit_1_bottleneck_v2_conv1_BatchNorm_FusedBatchNorm.running_var\", \"resnet50.resnet_v2_50_block2_unit_1_bottleneck_v2_conv2_BatchNorm_FusedBatchNorm.running_mean\", \"resnet50.resnet_v2_50_block2_unit_1_bottleneck_v2_conv2_BatchNorm_FusedBatchNorm.running_var\", \"resnet50.resnet_v2_50_block2_unit_2_bottleneck_v2_preact_FusedBatchNorm.running_mean\", \"resnet50.resnet_v2_50_block2_unit_2_bottleneck_v2_preact_FusedBatchNorm.running_var\", \"resnet50.resnet_v2_50_block2_unit_2_bottleneck_v2_conv1_BatchNorm_FusedBatchNorm.running_mean\", \"resnet50.resnet_v2_50_block2_unit_2_bottleneck_v2_conv1_BatchNorm_FusedBatchNorm.running_var\", \"resnet50.resnet_v2_50_block2_unit_2_bottleneck_v2_conv2_BatchNorm_FusedBatchNorm.running_mean\", \"resnet50.resnet_v2_50_block2_unit_2_bottleneck_v2_conv2_BatchNorm_FusedBatchNorm.running_var\", \"resnet50.resnet_v2_50_block2_unit_3_bottleneck_v2_preact_FusedBatchNorm.running_mean\", \"resnet50.resnet_v2_50_block2_unit_3_bottleneck_v2_preact_FusedBatchNorm.running_var\", \"resnet50.resnet_v2_50_block2_unit_3_bottleneck_v2_conv1_BatchNorm_FusedBatchNorm.running_mean\", \"resnet50.resnet_v2_50_block2_unit_3_bottleneck_v2_conv1_BatchNorm_FusedBatchNorm.running_var\", \"resnet50.resnet_v2_50_block2_unit_3_bottleneck_v2_conv2_BatchNorm_FusedBatchNorm.running_mean\", \"resnet50.resnet_v2_50_block2_unit_3_bottleneck_v2_conv2_BatchNorm_FusedBatchNorm.running_var\", \"resnet50.resnet_v2_50_block2_unit_4_bottleneck_v2_preact_FusedBatchNorm.running_mean\", \"resnet50.resnet_v2_50_block2_unit_4_bottleneck_v2_preact_FusedBatchNorm.running_var\", \"resnet50.resnet_v2_50_block2_unit_4_bottleneck_v2_conv1_BatchNorm_FusedBatchNorm.running_mean\", \"resnet50.resnet_v2_50_block2_unit_4_bottleneck_v2_conv1_BatchNorm_FusedBatchNorm.running_var\", \"resnet50.resnet_v2_50_block2_unit_4_bottleneck_v2_conv2_BatchNorm_FusedBatchNorm.running_mean\", \"resnet50.resnet_v2_50_block2_unit_4_bottleneck_v2_conv2_BatchNorm_FusedBatchNorm.running_var\", \"resnet50.resnet_v2_50_block3_unit_1_bottleneck_v2_preact_FusedBatchNorm.running_mean\", \"resnet50.resnet_v2_50_block3_unit_1_bottleneck_v2_preact_FusedBatchNorm.running_var\", \"resnet50.resnet_v2_50_block3_unit_1_bottleneck_v2_conv1_BatchNorm_FusedBatchNorm.running_mean\", \"resnet50.resnet_v2_50_block3_unit_1_bottleneck_v2_conv1_BatchNorm_FusedBatchNorm.running_var\", \"resnet50.resnet_v2_50_block3_unit_1_bottleneck_v2_conv2_BatchNorm_FusedBatchNorm.running_mean\", \"resnet50.resnet_v2_50_block3_unit_1_bottleneck_v2_conv2_BatchNorm_FusedBatchNorm.running_var\", \"resnet50.resnet_v2_50_block3_unit_2_bottleneck_v2_preact_FusedBatchNorm.running_mean\", \"resnet50.resnet_v2_50_block3_unit_2_bottleneck_v2_preact_FusedBatchNorm.running_var\", \"resnet50.resnet_v2_50_block3_unit_2_bottleneck_v2_conv1_BatchNorm_FusedBatchNorm.running_mean\", \"resnet50.resnet_v2_50_block3_unit_2_bottleneck_v2_conv1_BatchNorm_FusedBatchNorm.running_var\", \"resnet50.resnet_v2_50_block3_unit_2_bottleneck_v2_conv2_BatchNorm_FusedBatchNorm.running_mean\", \"resnet50.resnet_v2_50_block3_unit_2_bottleneck_v2_conv2_BatchNorm_FusedBatchNorm.running_var\", \"resnet50.resnet_v2_50_block3_unit_3_bottleneck_v2_preact_FusedBatchNorm.running_mean\", \"resnet50.resnet_v2_50_block3_unit_3_bottleneck_v2_preact_FusedBatchNorm.running_var\", \"resnet50.resnet_v2_50_block3_unit_3_bottleneck_v2_conv1_BatchNorm_FusedBatchNorm.running_mean\", \"resnet50.resnet_v2_50_block3_unit_3_bottleneck_v2_conv1_BatchNorm_FusedBatchNorm.running_var\", \"resnet50.resnet_v2_50_block3_unit_3_bottleneck_v2_conv2_BatchNorm_FusedBatchNorm.running_mean\", \"resnet50.resnet_v2_50_block3_unit_3_bottleneck_v2_conv2_BatchNorm_FusedBatchNorm.running_var\", \"resnet50.resnet_v2_50_block3_unit_4_bottleneck_v2_preact_FusedBatchNorm.running_mean\", \"resnet50.resnet_v2_50_block3_unit_4_bottleneck_v2_preact_FusedBatchNorm.running_var\", \"resnet50.resnet_v2_50_block3_unit_4_bottleneck_v2_conv1_BatchNorm_FusedBatchNorm.running_mean\", \"resnet50.resnet_v2_50_block3_unit_4_bottleneck_v2_conv1_BatchNorm_FusedBatchNorm.running_var\", \"resnet50.resnet_v2_50_block3_unit_4_bottleneck_v2_conv2_BatchNorm_FusedBatchNorm.running_mean\", \"resnet50.resnet_v2_50_block3_unit_4_bottleneck_v2_conv2_BatchNorm_FusedBatchNorm.running_var\", \"resnet50.resnet_v2_50_block3_unit_5_bottleneck_v2_preact_FusedBatchNorm.running_mean\", \"resnet50.resnet_v2_50_block3_unit_5_bottleneck_v2_preact_FusedBatchNorm.running_var\", \"resnet50.resnet_v2_50_block3_unit_5_bottleneck_v2_conv1_BatchNorm_FusedBatchNorm.running_mean\", \"resnet50.resnet_v2_50_block3_unit_5_bottleneck_v2_conv1_BatchNorm_FusedBatchNorm.running_var\", \"resnet50.resnet_v2_50_block3_unit_5_bottleneck_v2_conv2_BatchNorm_FusedBatchNorm.running_mean\", \"resnet50.resnet_v2_50_block3_unit_5_bottleneck_v2_conv2_BatchNorm_FusedBatchNorm.running_var\", \"resnet50.resnet_v2_50_block3_unit_6_bottleneck_v2_preact_FusedBatchNorm.running_mean\", \"resnet50.resnet_v2_50_block3_unit_6_bottleneck_v2_preact_FusedBatchNorm.running_var\", \"resnet50.resnet_v2_50_block3_unit_6_bottleneck_v2_conv1_BatchNorm_FusedBatchNorm.running_mean\", \"resnet50.resnet_v2_50_block3_unit_6_bottleneck_v2_conv1_BatchNorm_FusedBatchNorm.running_var\", \"resnet50.resnet_v2_50_block3_unit_6_bottleneck_v2_conv2_BatchNorm_FusedBatchNorm.running_mean\", \"resnet50.resnet_v2_50_block3_unit_6_bottleneck_v2_conv2_BatchNorm_FusedBatchNorm.running_var\", \"resnet50.resnet_v2_50_block4_unit_1_bottleneck_v2_preact_FusedBatchNorm.running_mean\", \"resnet50.resnet_v2_50_block4_unit_1_bottleneck_v2_preact_FusedBatchNorm.running_var\", \"resnet50.resnet_v2_50_block4_unit_1_bottleneck_v2_conv1_BatchNorm_FusedBatchNorm.running_mean\", \"resnet50.resnet_v2_50_block4_unit_1_bottleneck_v2_conv1_BatchNorm_FusedBatchNorm.running_var\", \"resnet50.resnet_v2_50_block4_unit_1_bottleneck_v2_conv2_BatchNorm_FusedBatchNorm.running_mean\", \"resnet50.resnet_v2_50_block4_unit_1_bottleneck_v2_conv2_BatchNorm_FusedBatchNorm.running_var\", \"resnet50.resnet_v2_50_block4_unit_2_bottleneck_v2_preact_FusedBatchNorm.running_mean\", \"resnet50.resnet_v2_50_block4_unit_2_bottleneck_v2_preact_FusedBatchNorm.running_var\", \"resnet50.resnet_v2_50_block4_unit_2_bottleneck_v2_conv1_BatchNorm_FusedBatchNorm.running_mean\", \"resnet50.resnet_v2_50_block4_unit_2_bottleneck_v2_conv1_BatchNorm_FusedBatchNorm.running_var\", \"resnet50.resnet_v2_50_block4_unit_2_bottleneck_v2_conv2_BatchNorm_FusedBatchNorm.running_mean\", \"resnet50.resnet_v2_50_block4_unit_2_bottleneck_v2_conv2_BatchNorm_FusedBatchNorm.running_var\", \"resnet50.resnet_v2_50_block4_unit_3_bottleneck_v2_preact_FusedBatchNorm.running_mean\", \"resnet50.resnet_v2_50_block4_unit_3_bottleneck_v2_preact_FusedBatchNorm.running_var\", \"resnet50.resnet_v2_50_block4_unit_3_bottleneck_v2_conv1_BatchNorm_FusedBatchNorm.running_mean\", \"resnet50.resnet_v2_50_block4_unit_3_bottleneck_v2_conv1_BatchNorm_FusedBatchNorm.running_var\", \"resnet50.resnet_v2_50_block4_unit_3_bottleneck_v2_conv2_BatchNorm_FusedBatchNorm.running_mean\", \"resnet50.resnet_v2_50_block4_unit_3_bottleneck_v2_conv2_BatchNorm_FusedBatchNorm.running_var\", \"resnet50.resnet_v2_50_postnorm_FusedBatchNorm.running_mean\", \"resnet50.resnet_v2_50_postnorm_FusedBatchNorm.running_var\", \"resnet50.resnet_v2_50_logits_Conv2D.weight\", \"resnet50.resnet_v2_50_logits_Conv2D.bias\". \n"
          ]
        }
      ],
      "source": [
        "!git pull origin main\n",
        "!bash ./scripts/deploy_samples.sh"
      ]
    },
    {
      "cell_type": "markdown",
      "metadata": {
        "id": "VR7AlJXgQFxV"
      },
      "source": [
        "## Download results and see the results"
      ]
    },
    {
      "cell_type": "code",
      "execution_count": null,
      "metadata": {
        "id": "qYcBlic0RKB1"
      },
      "outputs": [],
      "source": [
        "from google.colab import files\n",
        "files.download('/content/DUTCode/results/DUT_stable.mp4')\n",
        "files.download('/content/DUTCode/results/DIFRINT_stable.mp4')\n",
        "files.download('/content/DUTCode/results/StabNet_stable.mp4')"
      ]
    }
  ],
  "metadata": {
    "accelerator": "GPU",
    "colab": {
      "provenance": [],
      "include_colab_link": true
    },
    "kernelspec": {
      "display_name": "Python 3",
      "name": "python3"
    }
  },
  "nbformat": 4,
  "nbformat_minor": 0
}